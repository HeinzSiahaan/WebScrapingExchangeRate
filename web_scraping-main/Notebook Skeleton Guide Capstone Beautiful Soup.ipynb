{
 "cells": [
  {
   "attachments": {},
   "cell_type": "markdown",
   "metadata": {},
   "source": [
    "# Capstone Webscrapping using BeautifulSoup\n",
    "\n",
    "This notebook contains guidances & tasks on the data processing for the application\n",
    "\n",
    "## background\n",
    "\n",
    "(Please insert the background here )\n",
    "\n",
    "## Requesting the Data and Creating a BeautifulSoup\n",
    "\n",
    "Let's begin with requesting the web from the site with `get` method."
   ]
  },
  {
   "cell_type": "code",
   "execution_count": 16,
   "metadata": {
    "ExecuteTime": {
     "end_time": "2020-01-13T05:12:23.275508Z",
     "start_time": "2020-01-13T05:12:20.009898Z"
    }
   },
   "outputs": [],
   "source": [
    "import requests\n",
    "\n",
    "url_get = requests.get('https://www.exchange-rates.org/history/IDR/USD/T')"
   ]
  },
  {
   "attachments": {},
   "cell_type": "markdown",
   "metadata": {},
   "source": [
    "To visualize what exactly you get from the `request.get`, we can use .content so ee what we exactly get, in here i slice it so it won't make our screen full of the html we get from the page. You can delete the slicing if you want to see what we fully get."
   ]
  },
  {
   "cell_type": "code",
   "execution_count": 17,
   "metadata": {
    "ExecuteTime": {
     "end_time": "2020-01-13T05:12:23.290648Z",
     "start_time": "2020-01-13T05:12:23.277650Z"
    }
   },
   "outputs": [
    {
     "data": {
      "text/plain": [
       "b'!DOCTYPE html>\\r\\n<!--[if lt IE 9]>\\r\\n<html class=\"no-js ie8 oldie\" lang=\"en\" xml:lang=\\'en\\'>\\r\\n<![endif]-->\\r\\n<!--[if gt IE 8]><!--><html class=\"no-js\" lang=\"en\" xml:lang=\\'en\\'><!--<![endif]-->\\r\\n<head>\\r\\n<title>USD to IDR exchange rate history</title>\\r\\n<meta http-equiv=\"X-UA-Compatible\" content=\"IE=edge\">\\r\\n<meta name=\"viewport\" content=\"width=device-width, initial-scale=1, maximum-scale=5\">\\r\\n<meta charset=\"utf-8\" /><meta http-equiv=\"Content-Type\" content=\"text/html; charset=utf-8\" />\\r\\n<base href=\"http'"
      ]
     },
     "execution_count": 17,
     "metadata": {},
     "output_type": "execute_result"
    }
   ],
   "source": [
    "url_get.content[1:500]"
   ]
  },
  {
   "attachments": {},
   "cell_type": "markdown",
   "metadata": {},
   "source": [
    "As we can see we get a very unstructured and complex html, which actually contains the codes needed to show the webpages on your web browser. But we as human still confused what and where we can use that piece of code, so here where we use the beautifulsoup. Beautiful soup class will result a beautifulsoup object. Beautiful Soup transforms a complex HTML document into a complex tree of Python objects. \n",
    "\n",
    "Let's make Beautiful soup object and feel free to explore the object here."
   ]
  },
  {
   "cell_type": "code",
   "execution_count": 18,
   "metadata": {
    "ExecuteTime": {
     "end_time": "2020-01-13T05:12:23.808122Z",
     "start_time": "2020-01-13T05:12:23.292610Z"
    }
   },
   "outputs": [],
   "source": [
    "from bs4 import BeautifulSoup \n",
    "\n",
    "soup = BeautifulSoup(url_get.content,\"html.parser\")"
   ]
  },
  {
   "attachments": {},
   "cell_type": "markdown",
   "metadata": {},
   "source": [
    "## Finding the right key to scrap the data & Extracting the right information"
   ]
  },
  {
   "attachments": {},
   "cell_type": "markdown",
   "metadata": {},
   "source": [
    "Find the key and put the key into the `.find()` Put all the exploring the right key at this cell. (please change this markdown with your explanation)"
   ]
  },
  {
   "cell_type": "code",
   "execution_count": 51,
   "metadata": {
    "ExecuteTime": {
     "end_time": "2020-01-13T05:12:23.878904Z",
     "start_time": "2020-01-13T05:12:23.854974Z"
    }
   },
   "outputs": [
    {
     "name": "stdout",
     "output_type": "stream",
     "text": [
      "table border=\"0\" cellpadding=\"0\" cellspacing=\"0\" class=\"history-rates-data\">\n",
      " <thead>\n",
      "  <tr>\n",
      "   <th class=\"ltr-bidi-fix\">\n",
      "    Date\n",
      "   </th>\n",
      "   <th class=\"ltr-bidi-fix\">\n",
      "    US Dollar to Indonesian Rupiah\n",
      "   </th>\n",
      "  </tr>\n",
      " </thead>\n",
      " <tbody>\n",
      "  <tr>\n",
      "   <td>\n",
      "    <a class=\"w\" href=\"/exchange-rate-history/usd-idr-2023-05-26\">\n",
      "     May 26, 2023\n",
      "    </a>\n",
      "    <a class=\"n\" href=\"/exchange-rate-history/usd-idr-2023-05-26\">\n",
      "     2023-5-26\n",
      "    </a>\n",
      "   </td>\n",
      "   <td>\n",
      "    <span class=\"w\">\n",
      "     <span class=\"now\n"
     ]
    }
   ],
   "source": [
    "table = soup.find('table',attrs={'class':'history-rates-data'})\n",
    "print(table.prettify()[1:500])"
   ]
  },
  {
   "attachments": {},
   "cell_type": "markdown",
   "metadata": {},
   "source": [
    "Finding row length."
   ]
  },
  {
   "cell_type": "code",
   "execution_count": 39,
   "metadata": {},
   "outputs": [
    {
     "data": {
      "text/plain": [
       "[<a class=\"n\" href=\"/exchange-rate-history/usd-idr-2023-05-26\">2023-5-26</a>,\n",
       " <a class=\"n\" href=\"/exchange-rate-history/usd-idr-2023-05-25\">2023-5-25</a>,\n",
       " <a class=\"n\" href=\"/exchange-rate-history/usd-idr-2023-05-24\">2023-5-24</a>,\n",
       " <a class=\"n\" href=\"/exchange-rate-history/usd-idr-2023-05-23\">2023-5-23</a>,\n",
       " <a class=\"n\" href=\"/exchange-rate-history/usd-idr-2023-05-22\">2023-5-22</a>]"
      ]
     },
     "execution_count": 39,
     "metadata": {},
     "output_type": "execute_result"
    }
   ],
   "source": [
    "rows = table.find_all('a',attrs={'class':'n'})\n",
    "row_length = len(rows)\n",
    "rows[:5]"
   ]
  },
  {
   "attachments": {},
   "cell_type": "markdown",
   "metadata": {},
   "source": [
    "Do the scrapping process here (please change this markdown with your explanation)"
   ]
  },
  {
   "cell_type": "code",
   "execution_count": 58,
   "metadata": {},
   "outputs": [
    {
     "data": {
      "text/plain": [
       "'14,968'"
      ]
     },
     "execution_count": 58,
     "metadata": {},
     "output_type": "execute_result"
    }
   ],
   "source": [
    "rate = list(table.find_all('span',attrs={'class':'w'})[1])\n",
    "rate2= list(rate[2])\n",
    "rate2[1]"
   ]
  },
  {
   "cell_type": "code",
   "execution_count": 50,
   "metadata": {},
   "outputs": [
    {
     "data": {
      "text/plain": [
       "'span class=\"currencySymbol\">\\n $\\n</span>\\n'"
      ]
     },
     "execution_count": 50,
     "metadata": {},
     "output_type": "execute_result"
    }
   ],
   "source": [
    "table.find('span',attrs={'class':'w'}).find('span',attrs={'class':'currencySymbol'}).prettify()[1:500]\n"
   ]
  },
  {
   "cell_type": "code",
   "execution_count": 80,
   "metadata": {
    "ExecuteTime": {
     "end_time": "2020-01-13T05:12:24.008256Z",
     "start_time": "2020-01-13T05:12:23.980358Z"
    }
   },
   "outputs": [
    {
     "data": {
      "text/plain": [
       "[('2023-5-25', '14968'),\n",
       " ('2023-5-24', '14943'),\n",
       " ('2023-5-23', '14904'),\n",
       " ('2023-5-22', '14893'),\n",
       " ('2023-5-19', '14936'),\n",
       " ('2023-5-18', '14923'),\n",
       " ('2023-5-17', '14853'),\n",
       " ('2023-5-16', '14877'),\n",
       " ('2023-5-15', '14789'),\n",
       " ('2023-5-12', '14844'),\n",
       " ('2023-5-11', '14776'),\n",
       " ('2023-5-10', '14698'),\n",
       " ('2023-5-9', '14776'),\n",
       " ('2023-5-8', '14744'),\n",
       " ('2023-5-5', '14675'),\n",
       " ('2023-5-4', '14699'),\n",
       " ('2023-5-3', '14680'),\n",
       " ('2023-5-2', '14747'),\n",
       " ('2023-5-1', '14677'),\n",
       " ('2023-4-28', '14674'),\n",
       " ('2023-4-27', '14691'),\n",
       " ('2023-4-26', '14841'),\n",
       " ('2023-4-25', '14940'),\n",
       " ('2023-4-24', '14934'),\n",
       " ('2023-4-21', '14936'),\n",
       " ('2023-4-20', '14954'),\n",
       " ('2023-4-19', '14995'),\n",
       " ('2023-4-18', '14889'),\n",
       " ('2023-4-17', '14850'),\n",
       " ('2023-4-14', '14782'),\n",
       " ('2023-4-13', '14722'),\n",
       " ('2023-4-12', '14835'),\n",
       " ('2023-4-11', '14915'),\n",
       " ('2023-4-10', '14950'),\n",
       " ('2023-4-7', '14941'),\n",
       " ('2023-4-6', '14931'),\n",
       " ('2023-4-5', '14960'),\n",
       " ('2023-4-4', '14957'),\n",
       " ('2023-4-3', '14922'),\n",
       " ('2023-3-31', '14969'),\n",
       " ('2023-3-30', '15024'),\n",
       " ('2023-3-29', '15034'),\n",
       " ('2023-3-28', '15060'),\n",
       " ('2023-3-27', '15107'),\n",
       " ('2023-3-24', '15165'),\n",
       " ('2023-3-23', '15085'),\n",
       " ('2023-3-22', '15253'),\n",
       " ('2023-3-21', '15301'),\n",
       " ('2023-3-20', '15343'),\n",
       " ('2023-3-17', '15375'),\n",
       " ('2023-3-16', '15429'),\n",
       " ('2023-3-15', '15459'),\n",
       " ('2023-3-14', '15380'),\n",
       " ('2023-3-13', '15416'),\n",
       " ('2023-3-10', '15503'),\n",
       " ('2023-3-9', '15495'),\n",
       " ('2023-3-8', '15449'),\n",
       " ('2023-3-7', '15429'),\n",
       " ('2023-3-6', '15354'),\n",
       " ('2023-3-3', '15278'),\n",
       " ('2023-3-2', '15322'),\n",
       " ('2023-3-1', '15249'),\n",
       " ('2023-2-28', '15241'),\n",
       " ('2023-2-27', '15216'),\n",
       " ('2023-2-24', '15265'),\n",
       " ('2023-2-23', '15211'),\n",
       " ('2023-2-22', '15197'),\n",
       " ('2023-2-21', '15235'),\n",
       " ('2023-2-20', '15168'),\n",
       " ('2023-2-17', '15166'),\n",
       " ('2023-2-16', '15144'),\n",
       " ('2023-2-15', '15205'),\n",
       " ('2023-2-14', '15186'),\n",
       " ('2023-2-13', '15216'),\n",
       " ('2023-2-10', '15188'),\n",
       " ('2023-2-9', '15147'),\n",
       " ('2023-2-8', '15133'),\n",
       " ('2023-2-7', '15154'),\n",
       " ('2023-2-6', '15198'),\n",
       " ('2023-2-3', '15095'),\n",
       " ('2023-2-2', '14907'),\n",
       " ('2023-2-1', '14896'),\n",
       " ('2023-1-31', '15002'),\n",
       " ('2023-1-30', '15013'),\n",
       " ('2023-1-27', '14973'),\n",
       " ('2023-1-26', '14955'),\n",
       " ('2023-1-25', '14940'),\n",
       " ('2023-1-24', '14956'),\n",
       " ('2023-1-23', '15026'),\n",
       " ('2023-1-20', '15063'),\n",
       " ('2023-1-19', '15154'),\n",
       " ('2023-1-18', '15138'),\n",
       " ('2023-1-17', '15180'),\n",
       " ('2023-1-16', '15126'),\n",
       " ('2023-1-13', '15115'),\n",
       " ('2023-1-12', '15206'),\n",
       " ('2023-1-11', '15432'),\n",
       " ('2023-1-10', '15536'),\n",
       " ('2023-1-9', '15596'),\n",
       " ('2023-1-6', '15607'),\n",
       " ('2023-1-5', '15635'),\n",
       " ('2023-1-4', '15582'),\n",
       " ('2023-1-3', '15594'),\n",
       " ('2023-1-2', '15554'),\n",
       " ('2022-12-30', '15534'),\n",
       " ('2022-12-29', '15627'),\n",
       " ('2022-12-28', '15789'),\n",
       " ('2022-12-27', '15620'),\n",
       " ('2022-12-26', '15621'),\n",
       " ('2022-12-23', '15582'),\n",
       " ('2022-12-22', '15574'),\n",
       " ('2022-12-21', '15540'),\n",
       " ('2022-12-20', '15564'),\n",
       " ('2022-12-19', '15568'),\n",
       " ('2022-12-16', '15616'),\n",
       " ('2022-12-15', '15629'),\n",
       " ('2022-12-14', '15543'),\n",
       " ('2022-12-13', '15560'),\n",
       " ('2022-12-12', '15676'),\n",
       " ('2022-12-9', '15604'),\n",
       " ('2022-12-8', '15594'),\n",
       " ('2022-12-7', '15612'),\n",
       " ('2022-12-6', '15625'),\n",
       " ('2022-12-5', '15520'),\n",
       " ('2022-12-2', '15376'),\n",
       " ('2022-12-1', '15389'),\n",
       " ('2022-11-30', '15633'),\n",
       " ('2022-11-29', '15734'),\n",
       " ('2022-11-28', '15743')]"
      ]
     },
     "execution_count": 80,
     "metadata": {},
     "output_type": "execute_result"
    }
   ],
   "source": [
    "temp = [] #initiating a tuple\n",
    "\n",
    "for i in range(1, row_length):\n",
    "\n",
    "    #scrapping process\n",
    "    #get period\n",
    "    period= table.find_all('a',attrs={'class':'n'})[i].text\n",
    "\n",
    "    #get rate\n",
    "    rate3=list(table.find_all('span',attrs={'class':'w'})[i])\n",
    "    rate2= list(rate3[2])\n",
    "    rate=rate2[1].strip().replace(',','')\n",
    "\n",
    "    temp.append((period,rate))\n",
    "    \n",
    "temp "
   ]
  },
  {
   "attachments": {},
   "cell_type": "markdown",
   "metadata": {},
   "source": [
    "## Creating data frame & Data wrangling"
   ]
  },
  {
   "attachments": {},
   "cell_type": "markdown",
   "metadata": {},
   "source": [
    "Put the array into dataframe"
   ]
  },
  {
   "cell_type": "code",
   "execution_count": 81,
   "metadata": {
    "ExecuteTime": {
     "end_time": "2020-01-13T05:12:41.517372Z",
     "start_time": "2020-01-13T05:12:29.130015Z"
    }
   },
   "outputs": [
    {
     "data": {
      "text/html": [
       "<div>\n",
       "<style scoped>\n",
       "    .dataframe tbody tr th:only-of-type {\n",
       "        vertical-align: middle;\n",
       "    }\n",
       "\n",
       "    .dataframe tbody tr th {\n",
       "        vertical-align: top;\n",
       "    }\n",
       "\n",
       "    .dataframe thead th {\n",
       "        text-align: right;\n",
       "    }\n",
       "</style>\n",
       "<table border=\"1\" class=\"dataframe\">\n",
       "  <thead>\n",
       "    <tr style=\"text-align: right;\">\n",
       "      <th></th>\n",
       "      <th>period</th>\n",
       "      <th>rate</th>\n",
       "    </tr>\n",
       "  </thead>\n",
       "  <tbody>\n",
       "    <tr>\n",
       "      <th>0</th>\n",
       "      <td>2023-5-25</td>\n",
       "      <td>14968</td>\n",
       "    </tr>\n",
       "    <tr>\n",
       "      <th>1</th>\n",
       "      <td>2023-5-24</td>\n",
       "      <td>14943</td>\n",
       "    </tr>\n",
       "    <tr>\n",
       "      <th>2</th>\n",
       "      <td>2023-5-23</td>\n",
       "      <td>14904</td>\n",
       "    </tr>\n",
       "    <tr>\n",
       "      <th>3</th>\n",
       "      <td>2023-5-22</td>\n",
       "      <td>14893</td>\n",
       "    </tr>\n",
       "    <tr>\n",
       "      <th>4</th>\n",
       "      <td>2023-5-19</td>\n",
       "      <td>14936</td>\n",
       "    </tr>\n",
       "  </tbody>\n",
       "</table>\n",
       "</div>"
      ],
      "text/plain": [
       "      period   rate\n",
       "0  2023-5-25  14968\n",
       "1  2023-5-24  14943\n",
       "2  2023-5-23  14904\n",
       "3  2023-5-22  14893\n",
       "4  2023-5-19  14936"
      ]
     },
     "execution_count": 81,
     "metadata": {},
     "output_type": "execute_result"
    }
   ],
   "source": [
    "import pandas as pd\n",
    "\n",
    "df = pd.DataFrame(temp, columns=('period','rate'))\n",
    "df.head()"
   ]
  },
  {
   "attachments": {},
   "cell_type": "markdown",
   "metadata": {},
   "source": [
    "Do the data cleaning here (please change this markdown with your explanation of what you do for data wrangling)"
   ]
  },
  {
   "cell_type": "code",
   "execution_count": 82,
   "metadata": {
    "ExecuteTime": {
     "end_time": "2020-01-13T05:12:59.165559Z",
     "start_time": "2020-01-13T05:12:58.910012Z"
    }
   },
   "outputs": [
    {
     "data": {
      "text/plain": [
       "period     object\n",
       "rate      float64\n",
       "dtype: object"
      ]
     },
     "execution_count": 82,
     "metadata": {},
     "output_type": "execute_result"
    }
   ],
   "source": [
    "#df['period'] = pd.to_datetime(df['period'], format='%Y-%m-%d')\n",
    "# df['rate'].replace(',','')\n",
    "# df.head()\n",
    "df['rate']=df['rate'].astype('float64')\n",
    "df.dtypes"
   ]
  },
  {
   "attachments": {},
   "cell_type": "markdown",
   "metadata": {},
   "source": [
    "Data visualisation (please change this markdown with your explanation of what you do for data wrangling)"
   ]
  },
  {
   "cell_type": "code",
   "execution_count": 83,
   "metadata": {},
   "outputs": [],
   "source": [
    "df=df.set_index('period')"
   ]
  },
  {
   "cell_type": "code",
   "execution_count": 85,
   "metadata": {},
   "outputs": [
    {
     "data": {
      "text/plain": [
       "'15185.46'"
      ]
     },
     "execution_count": 85,
     "metadata": {},
     "output_type": "execute_result"
    }
   ],
   "source": [
    "f'{df[\"rate\"].mean().round(2)}' #be careful with the \" and ' "
   ]
  },
  {
   "cell_type": "code",
   "execution_count": 84,
   "metadata": {},
   "outputs": [
    {
     "data": {
      "text/plain": [
       "<Axes: xlabel='period'>"
      ]
     },
     "execution_count": 84,
     "metadata": {},
     "output_type": "execute_result"
    },
    {
     "data": {
      "image/png": "[encoded data removed]",
      "text/plain": [
       "<Figure size 640x480 with 1 Axes>"
      ]
     },
     "metadata": {},
     "output_type": "display_data"
    }
   ],
   "source": [
    "df.plot()"
   ]
  },
  {
   "attachments": {},
   "cell_type": "markdown",
   "metadata": {},
   "source": [
    "### Implementing your webscrapping to the flask dashboard\n",
    "\n",
    "- Copy paste all of your web scrapping process to the desired position on the `app.py`\n",
    "- Changing the title of the dasboard at `index.html`"
   ]
  },
  {
   "attachments": {},
   "cell_type": "markdown",
   "metadata": {},
   "source": [
    "## Finishing This Notebook with Your Analysis and Conclusion\n",
    "\n",
    "First you can do start with making the data visualisation. "
   ]
  },
  {
   "cell_type": "code",
   "execution_count": null,
   "metadata": {
    "ExecuteTime": {
     "end_time": "2020-01-13T05:20:56.208237Z",
     "start_time": "2020-01-13T05:20:56.076043Z"
    }
   },
   "outputs": [],
   "source": []
  },
  {
   "attachments": {},
   "cell_type": "markdown",
   "metadata": {},
   "source": [
    "\n",
    "(Put your analysis and conclusion here.)"
   ]
  },
  {
   "attachments": {},
   "cell_type": "markdown",
   "metadata": {},
   "source": [
    "### Implement it at the webapps\n",
    "\n",
    "- You can create additional analysis from the data.\n",
    "- Implement it to the dashboard with at `app.py` dan `index.html`."
   ]
  }
 ],
 "metadata": {
  "kernelspec": {
   "display_name": "Python 3",
   "language": "python",
   "name": "python3"
  },
  "language_info": {
   "codemirror_mode": {
    "name": "ipython",
    "version": 3
   },
   "file_extension": ".py",
   "mimetype": "text/x-python",
   "name": "python",
   "nbconvert_exporter": "python",
   "pygments_lexer": "ipython3",
   "version": "3.10.10"
  }
 },
 "nbformat": 4,
 "nbformat_minor": 2
}
